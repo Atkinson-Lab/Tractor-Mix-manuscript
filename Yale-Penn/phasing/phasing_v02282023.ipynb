{
 "cells": [
  {
   "cell_type": "markdown",
   "id": "9b82ba56",
   "metadata": {},
   "source": [
    "# Script for starting the phasing analysis in Yale - Penn\n",
    "\n",
    "Author: Jose Jaime Martinez-Magana\n",
    "\n",
    "Day: 28 February 2023\n",
    "\n",
    "This script was developed to modify out previous script for phasing, to submitt the shapeit jobs in arrays."
   ]
  },
  {
   "cell_type": "code",
   "execution_count": null,
   "id": "c318d574",
   "metadata": {},
   "outputs": [],
   "source": [
    "# updated 28 february 2023\n",
    "# in this analysis we run first chromosome1 as testing\n",
    "# this chromosome did not finish in 24 hours, but requiered a low amount of RAM, 68.43 GB\n",
    "# for this reason we changed to submit the jobs in array in the server with dSQ\n",
    "# we are going to change the partition for week partition \n",
    "# follow code for this\n",
    "\n",
    "# move to working directory\n",
    "cd /vast/palmer/scratch/montalvo-ortiz/jjm262/genomics/yalepenn/tractor_mix/scripts/phasing/\n",
    "mkdir phasing_array\n",
    "cd phasing_array\n",
    "\n",
    "# first we need to create a file with the list of jobs to submit, we named this job_list_tractor_phasing_v02282023.txt\n",
    "# we generate the content of this file with the following commands\n",
    "vcfip='/vast/palmer/scratch/montalvo-ortiz/jjm262/genomics/yalepenn/tractor_mix/databases/genotype/filtered'\n",
    "# set path for phased output vcf files\n",
    "vcfop='/vast/palmer/scratch/montalvo-ortiz/jjm262/genomics/yalepenn/tractor_mix/databases/genotype/phased'\n",
    "# set path input for haplotypes of references\n",
    "hap_ref='/vast/palmer/scratch/montalvo-ortiz/jjm262/genomics/yalepenn/tractor_mix/databases/shapeit/haplotypes/1000GP_Phase3'\n",
    "# set path input for genetic maps\n",
    "map_ref='/vast/palmer/scratch/montalvo-ortiz/jjm262/genomics/yalepenn/tractor_mix/databases/shapeit/haplotypes/1000GP_Phase3'\n",
    "# set group list, to only include those in the filtering\n",
    "group_list='/vast/palmer/scratch/montalvo-ortiz/jjm262/genomics/yalepenn/tractor_mix/databases/shapeit/haplotypes/1000GP_Phase3/ances_groups.list'\n",
    "# phasing data with shapeit2\n",
    "# creating scripts for chromosomes\n",
    "# chr1 - chr8\n",
    "for chr in {1..8}\n",
    "do \n",
    "echo shapeit --input-vcf \"${vcfip}\"/GWGO_GWCIDR.1kg_phase3_v5.chr\"$chr\".dose.rsids.filtered.nodup.vcf.gz --input-map \"${map_ref}\"/genetic_map_chr\"${chr}\"_combined_b37.txt --input-ref \"${hap_ref}\"/1000GP_Phase3_chr\"${chr}\".hap.gz \"${hap_ref}\"/1000GP_Phase3_chr\"${chr}\".legend.gz \"${hap_ref}\"/1000GP_Phase3.sample --include-grp \"${group_list}\" --exclude-snp \"${vcfop}\"/GWGO_GWCIDR.1kg_phase3_v5.chr\"$chr\".dose.test_aligment_check.snp.strand.exclude --thread 36 -O \"${vcfop}\"/GWGO_GWCIDR.1kg_phase3_v5.chr\"$chr\".dose.rsids.filtered.nodup.phased.shapeit\n",
    "done > job_list_tractor_phasing_chr1_chr8_v02282023.txt\n",
    "# chr9 - chr16\n",
    "for chr in {9..16}\n",
    "do \n",
    "echo shapeit --input-vcf \"${vcfip}\"/GWGO_GWCIDR.1kg_phase3_v5.chr\"$chr\".dose.rsids.filtered.nodup.vcf.gz --input-map \"${map_ref}\"/genetic_map_chr\"${chr}\"_combined_b37.txt --input-ref \"${hap_ref}\"/1000GP_Phase3_chr\"${chr}\".hap.gz \"${hap_ref}\"/1000GP_Phase3_chr\"${chr}\".legend.gz \"${hap_ref}\"/1000GP_Phase3.sample --include-grp \"${group_list}\" --exclude-snp \"${vcfop}\"/GWGO_GWCIDR.1kg_phase3_v5.chr\"$chr\".dose.test_aligment_check.snp.strand.exclude --thread 36 -O \"${vcfop}\"/GWGO_GWCIDR.1kg_phase3_v5.chr\"$chr\".dose.rsids.filtered.nodup.phased.shapeit\n",
    "done > job_list_tractor_phasing_chr9_chr16_v02282023.txt\n",
    "# chr17 - chr22\n",
    "for chr in {17..22}\n",
    "do \n",
    "echo shapeit --input-vcf \"${vcfip}\"/GWGO_GWCIDR.1kg_phase3_v5.chr\"$chr\".dose.rsids.filtered.nodup.vcf.gz --input-map \"${map_ref}\"/genetic_map_chr\"${chr}\"_combined_b37.txt --input-ref \"${hap_ref}\"/1000GP_Phase3_chr\"${chr}\".hap.gz \"${hap_ref}\"/1000GP_Phase3_chr\"${chr}\".legend.gz \"${hap_ref}\"/1000GP_Phase3.sample --include-grp \"${group_list}\" --exclude-snp \"${vcfop}\"/GWGO_GWCIDR.1kg_phase3_v5.chr\"$chr\".dose.test_aligment_check.snp.strand.exclude --thread 36 -O \"${vcfop}\"/GWGO_GWCIDR.1kg_phase3_v5.chr\"$chr\".dose.rsids.filtered.nodup.phased.shapeit\n",
    "done > job_list_tractor_phasing_chr17_chr22_v02282023.txt\n",
    "\n",
    "\n",
    "# manually modifying the script to load miniconda and the environment\n",
    "# load conda \n",
    "module load miniconda;conda activate tractor_mix;\n",
    "\n",
    "# load module dSQ\n",
    "module load dSQ\n",
    "\n",
    "# generating script for dSQ\n",
    "dsq --job-file job_list_tractor_phasing_chr1_chr8_v02282023.txt --mem 130g --time 5-00:00:00 --partition=week --cpus-per-task=36 --mail-type ALL\n",
    "dsq --job-file job_list_tractor_phasing_chr9_chr16_v02282023.txt --mem 130g --time 5-00:00:00 --partition=week --cpus-per-task=36 --mail-type ALL\n",
    "dsq --job-file job_list_tractor_phasing_chr17_chr22_v02282023.txt --mem 130g --time 5-00:00:00 --partition=week --cpus-per-task=36 --mail-type ALL\n",
    "        \n",
    "# the previous script generates file named dsq-job_list_tractor_phasing_v02282023-2023-02-28.sh\n",
    "sbatch dsq-job_list_tractor_phasing_chr1_chr8_v02282023-2023-02-28.sh\n",
    "sbatch dsq-job_list_tractor_phasing_chr9_chr16_v02282023-2023-02-28.sh\n",
    "sbatch dsq-job_list_tractor_phasing_chr17_chr22_v02282023-2023-02-28.sh\n"
   ]
  }
 ],
 "metadata": {
  "kernelspec": {
   "display_name": "Python 3 (ipykernel)",
   "language": "python",
   "name": "python3"
  },
  "language_info": {
   "codemirror_mode": {
    "name": "ipython",
    "version": 3
   },
   "file_extension": ".py",
   "mimetype": "text/x-python",
   "name": "python",
   "nbconvert_exporter": "python",
   "pygments_lexer": "ipython3",
   "version": "3.9.12"
  }
 },
 "nbformat": 4,
 "nbformat_minor": 5
}
