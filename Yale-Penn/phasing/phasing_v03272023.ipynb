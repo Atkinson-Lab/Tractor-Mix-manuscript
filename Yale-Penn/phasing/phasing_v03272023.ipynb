{
 "cells": [
  {
   "cell_type": "markdown",
   "id": "9b82ba56",
   "metadata": {},
   "source": [
    "# Script for starting the phasing analysis in Yale - Penn\n",
    "\n",
    "Author: Jose Jaime Martinez-Magana\n",
    "\n",
    "Day: 27 March 2023\n",
    "\n",
    "This script was developed to adjust chromosome 9 for phasing"
   ]
  },
  {
   "cell_type": "code",
   "execution_count": null,
   "id": "c318d574",
   "metadata": {},
   "outputs": [],
   "source": [
    "# updated 27 march 2023\n",
    "# in chromosome 9 we got the folllowing error\n",
    "# ERROR: 61 SNPs with high rates of missing data (>10%).  These sites should be removed. You can disable this error with --force (at your own risk).\n",
    "\n",
    "# we are going to modify chromosome 9 output\n",
    "# requiere computational resources in McCleary\n",
    "srun --pty --mem=32G -p devel bash\n",
    "\n",
    "# mave to directory\n",
    "cd /vast/palmer/scratch/montalvo-ortiz/jjm262/genomics/yalepenn/tractor_mix/databases/genotype\n",
    "mkdir vcf_stats\n",
    "\n",
    "# load plink\n",
    "module load PLINK\n",
    "\n",
    "# set parameters\n",
    "in_p=\"/vast/palmer/scratch/montalvo-ortiz/jjm262/genomics/yalepenn/tractor_mix/databases/genotype/filtered\"\n",
    "out_p=\"/vast/palmer/scratch/montalvo-ortiz/jjm262/genomics/yalepenn/tractor_mix/databases/genotype/vcf_stats\"\n",
    "\n",
    "# using plink to estimate allelic frequency\n",
    "for chr in {1..14}\n",
    "do\n",
    "plink2 --vcf ${in_p}/GWGO_GWCIDR.1kg_phase3_v5.chr\"${chr}\".dose.rsids.filtered.nodup.vcf.gz \\\n",
    "--missing variant-only \\\n",
    "--threads 20 \\\n",
    "--out ${out_p}/GWGO_GWCIDR.1kg_phase3_v5.chr\"${chr}\".dose.test_aligment_check.snp.missing\n",
    "done\n",
    "\n",
    "\n",
    "# using plink to estimate allelic frequency\n",
    "for chr in {15..22}\n",
    "do\n",
    "plink2 --vcf ${in_p}/GWGO_GWCIDR.1kg_phase3_v5.chr\"${chr}\".dose.rsids.filtered.nodup.vcf.gz \\\n",
    "--missing variant-only \\\n",
    "--threads 20 \\\n",
    "--out ${out_p}/GWGO_GWCIDR.1kg_phase3_v5.chr\"${chr}\".dose.test_aligment_check.snp.missing\n",
    "done"
   ]
  },
  {
   "cell_type": "code",
   "execution_count": null,
   "id": "d2f22bae",
   "metadata": {},
   "outputs": [],
   "source": [
    "# merging the exclude probes from shapeit with the missing probes of vcf\n",
    "# only chromosome 9 had missing snps\n",
    "cat /vast/palmer/scratch/montalvo-ortiz/jjm262/genomics/yalepenn/tractor_mix/databases/genotype/vcf_stats/GWGO_GWCIDR.1kg_phase3_v5.chr9.dose.test_aligment_check.snp.missing.vmiss | awk '{if($5 > 0)print$2}'  | cut -f 2 -d \":\"  > /vast/palmer/scratch/montalvo-ortiz/jjm262/genomics/yalepenn/tractor_mix/databases/genotype/phased/GWGO_GWCIDR.1kg_phase3_v5.chr9.dose.test_aligment_check.snp.strand.exclude.vmiss\n",
    "# merge with previous filter from shapeit\n",
    "cd /vast/palmer/scratch/montalvo-ortiz/jjm262/genomics/yalepenn/tractor_mix/databases/genotype/phased/\n",
    "cat GWGO_GWCIDR.1kg_phase3_v5.chr9.dose.test_aligment_check.snp.strand.exclude GWGO_GWCIDR.1kg_phase3_v5.chr9.dose.test_aligment_check.snp.strand.exclude.vmiss | sort -n | egrep -v \"ID\" > GWGO_GWCIDR.1kg_phase3_v5.chr9.dose.test_aligment_check.snp.strand.exclude.vmiss.all"
   ]
  },
  {
   "cell_type": "code",
   "execution_count": null,
   "id": "b89abd79",
   "metadata": {},
   "outputs": [],
   "source": [
    "# run the phasing for chromosome 9\n",
    "# move to working directory\n",
    "cd /vast/palmer/scratch/montalvo-ortiz/jjm262/genomics/yalepenn/tractor_mix/scripts/phasing/phasing_array\n",
    "\n",
    "# content of script for phase chromosome 9\n",
    "# script name: job_tractor_phasing_chr9_rerun_v03272023.sh\n",
    "#!/bin/bash\n",
    "#SBATCH --output tractor_phasing_chr9_rerun_v03272023-%A_%1a-%N.out\n",
    "#SBATCH --job-name tractor_phasing_chr9__rerun_v03272023\n",
    "#SBATCH --mem 130g --time 5-00:00:00 --partition=week --cpus-per-task=36 --mail-type ALL\n",
    "\n",
    "# set parameters\n",
    "# set path for input vcf files\n",
    "vcfip='/vast/palmer/scratch/montalvo-ortiz/jjm262/genomics/yalepenn/tractor_mix/databases/genotype/filtered/GWGO_GWCIDR.1kg_phase3_v5.chr9.dose.rsids.filtered.nodup.vcf.gz'\n",
    "# load miniconda\n",
    "module load miniconda\n",
    "# activate environment\n",
    "conda activate tractor_mix\n",
    "# run phasing with shapeit\n",
    "shapeit --input-vcf ${vcfip} \\\n",
    "--input-map /vast/palmer/scratch/montalvo-ortiz/jjm262/genomics/yalepenn/tractor_mix/databases/shapeit/haplotypes/1000GP_Phase3/genetic_map_chr9_combined_b37.txt \\\n",
    "--input-ref /vast/palmer/scratch/montalvo-ortiz/jjm262/genomics/yalepenn/tractor_mix/databases/shapeit/haplotypes/1000GP_Phase3/1000GP_Phase3_chr9.hap.gz /vast/palmer/scratch/montalvo-ortiz/jjm262/genomics/yalepenn/tractor_mix/databases/shapeit/haplotypes/1000GP_Phase3/1000GP_Phase3_chr9.legend.gz /vast/palmer/scratch/montalvo-ortiz/jjm262/genomics/yalepenn/tractor_mix/databases/shapeit/haplotypes/1000GP_Phase3/1000GP_Phase3.sample \\\n",
    "--include-grp /vast/palmer/scratch/montalvo-ortiz/jjm262/genomics/yalepenn/tractor_mix/databases/shapeit/haplotypes/1000GP_Phase3/ances_groups.list \\\n",
    "--exclude-snp /vast/palmer/scratch/montalvo-ortiz/jjm262/genomics/yalepenn/tractor_mix/databases/genotype/phased/GWGO_GWCIDR.1kg_phase3_v5.chr9.dose.test_aligment_check.snp.strand.exclude.vmiss.all \\\n",
    "--thread 36 \\\n",
    "-O /vast/palmer/scratch/montalvo-ortiz/jjm262/genomics/yalepenn/tractor_mix/databases/genotype/phased/GWGO_GWCIDR.1kg_phase3_v5.chr9.dose.rsids.filtered.nodup.phased.shapeit\n",
    "\n",
    "# running script\n",
    "sbatch job_tractor_phasing_chr9_rerun_v03272023.sh"
   ]
  }
 ],
 "metadata": {
  "kernelspec": {
   "display_name": "Python 3 (ipykernel)",
   "language": "python",
   "name": "python3"
  },
  "language_info": {
   "codemirror_mode": {
    "name": "ipython",
    "version": 3
   },
   "file_extension": ".py",
   "mimetype": "text/x-python",
   "name": "python",
   "nbconvert_exporter": "python",
   "pygments_lexer": "ipython3",
   "version": "3.9.12"
  }
 },
 "nbformat": 4,
 "nbformat_minor": 5
}
