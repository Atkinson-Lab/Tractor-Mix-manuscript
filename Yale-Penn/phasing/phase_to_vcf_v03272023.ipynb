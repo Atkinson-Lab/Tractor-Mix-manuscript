{
 "cells": [
  {
   "cell_type": "markdown",
   "id": "122852e2",
   "metadata": {},
   "source": [
    "# Transform phased shapeit data to vcf\n",
    "\n",
    "Author: Jose Jaime Martinez-Magana\n",
    "\n",
    "Day: 27 March 2023\n",
    "\n",
    "This script will transform the phased files from shapeit to vcf files."
   ]
  },
  {
   "cell_type": "code",
   "execution_count": null,
   "id": "9382f3ad",
   "metadata": {},
   "outputs": [],
   "source": [
    "# we are going to submit the jobs in array in the server with dSQ\n",
    "# we are going to change the partition for week partition\n",
    "# follow code for this\n",
    "\n",
    "# testing conversion in chromosome 22\n",
    "module load miniconda\n",
    "conda activate tractor_mix\n",
    "# testing conversion\n",
    "shapeit -convert \\\n",
    "--input-haps /vast/palmer/scratch/montalvo-ortiz/jjm262/genomics/yalepenn/tractor_mix/databases/genotype/phased/GWGO_GWCIDR.1kg_phase3_v5.chr22.dose.rsids.filtered.nodup.phased.shapeit \\\n",
    "--thread 36 \\\n",
    "--output-vcf /vast/palmer/scratch/montalvo-ortiz/jjm262/genomics/yalepenn/tractor_mix/databases/genotype/phased_vcfs/GWGO_GWCIDR.1kg_phase3_v5.chr22.dose.rsids.filtered.nodup.phased.shapeit\n",
    "\n",
    "# create a folder to contain the phased vcf files\n",
    "cd /vast/palmer/scratch/montalvo-ortiz/jjm262/genomics/yalepenn/tractor_mix/databases/genotype\n",
    "mkdir phased_vcfs\n",
    "cd phased_vcfs\n",
    "\n",
    "# move to working directory for scripts\n",
    "cd /vast/palmer/scratch/montalvo-ortiz/jjm262/genomics/yalepenn/tractor_mix/scripts/phasing/\n",
    "# create a new directory\n",
    "mkdir phased_to_vcf\n",
    "cd phased_to_vcf\n",
    "\n",
    "\n",
    "# first we need to create a file with the list of jobs to submit\n",
    "# we generate the content of this file with the following commands\n",
    "vcfip='/vast/palmer/scratch/montalvo-ortiz/jjm262/genomics/yalepenn/tractor_mix/databases/genotype/phased'\n",
    "# set path for phased output vcf files\n",
    "vcfop='/vast/palmer/scratch/montalvo-ortiz/jjm262/genomics/yalepenn/tractor_mix/databases/genotype/phased_vcfs'\n",
    "# creating scripts for chromosomes\n",
    "# chr1 - chr8\n",
    "for chr in {1..8}\n",
    "do \n",
    "echo \"module load miniconda;conda activate tractor_mix;shapeit -convert --input-haps \"${vcfip}\"/GWGO_GWCIDR.1kg_phase3_v5.chr\"${chr}\".dose.rsids.filtered.nodup.phased.shapeit --thread 36 --output-vcf \"${vcfop}\"/GWGO_GWCIDR.1kg_phase3_v5.chr\"${chr}\".dose.rsids.filtered.nodup.phased.shapeit.vcf\"\n",
    "done > job_list_tractor_phased2vcf_chr1_chr8_v03272023.txt\n",
    "# chr9 - chr16\n",
    "for chr in {9..16}\n",
    "do \n",
    "echo \"module load miniconda;conda activate tractor_mix;shapeit -convert --input-haps \"${vcfip}\"/GWGO_GWCIDR.1kg_phase3_v5.chr\"${chr}\".dose.rsids.filtered.nodup.phased.shapeit --thread 36 --output-vcf \"${vcfop}\"/GWGO_GWCIDR.1kg_phase3_v5.chr\"${chr}\".dose.rsids.filtered.nodup.phased.shapeit.vcf\"\n",
    "done > job_list_tractor_phased2vcf_chr9_chr16_v03272023.txt\n",
    "# chr17 - chr22\n",
    "for chr in {17..22}\n",
    "do \n",
    "echo \"module load miniconda;conda activate tractor_mix;shapeit -convert --input-haps \"${vcfip}\"/GWGO_GWCIDR.1kg_phase3_v5.chr\"${chr}\".dose.rsids.filtered.nodup.phased.shapeit --thread 36 --output-vcf \"${vcfop}\"/GWGO_GWCIDR.1kg_phase3_v5.chr\"${chr}\".dose.rsids.filtered.nodup.phased.shapeit.vcf\"\n",
    "done > job_list_tractor_phased2vcf_chr17_chr22_v03272023.txt\n",
    "\n",
    "# load module dSQ\n",
    "module load dSQ\n",
    "\n",
    "# generating script for dSQ\n",
    "dsq --job-file job_list_tractor_phased2vcf_chr1_chr8_v03272023.txt --mem 72g --time 04:00:00 --partition=day --cpus-per-task=36 --mail-type ALL\n",
    "dsq --job-file job_list_tractor_phased2vcf_chr9_chr16_v03272023.txt --mem 72g --time 04:00:00 --partition=day --cpus-per-task=36 --mail-type ALL\n",
    "dsq --job-file job_list_tractor_phased2vcf_chr17_chr22_v03272023.txt --mem 72g --time 04:00:00 --partition=day --cpus-per-task=36 --mail-type ALL\n",
    "\n",
    "# running bash scripts\n",
    "sbatch dsq-job_list_tractor_phased2vcf_chr1_chr8_v03272023-2023-03-27.sh\n",
    "sbatch dsq-job_list_tractor_phased2vcf_chr9_chr16_v03272023-2023-03-27.sh\n",
    "sbatch dsq-job_list_tractor_phased2vcf_chr17_chr22_v03272023-2023-03-27.sh"
   ]
  }
 ],
 "metadata": {
  "kernelspec": {
   "display_name": "Python 3 (ipykernel)",
   "language": "python",
   "name": "python3"
  },
  "language_info": {
   "codemirror_mode": {
    "name": "ipython",
    "version": 3
   },
   "file_extension": ".py",
   "mimetype": "text/x-python",
   "name": "python",
   "nbconvert_exporter": "python",
   "pygments_lexer": "ipython3",
   "version": "3.9.12"
  }
 },
 "nbformat": 4,
 "nbformat_minor": 5
}
