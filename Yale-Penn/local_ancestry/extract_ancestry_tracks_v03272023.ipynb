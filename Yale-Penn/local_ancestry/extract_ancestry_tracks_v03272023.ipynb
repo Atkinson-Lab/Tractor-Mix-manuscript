{
 "cells": [
  {
   "cell_type": "markdown",
   "id": "f2318263",
   "metadata": {},
   "source": [
    "# Script to extract local tracts using tracts\n",
    "\n",
    "Author: Jose Jaime Martinez-Magaña\n",
    "\n",
    "Day: 27 march 2023\n",
    "\n",
    "This script will extract the ancestry tracks after local ancestry"
   ]
  },
  {
   "cell_type": "code",
   "execution_count": null,
   "id": "6ce4a75a",
   "metadata": {},
   "outputs": [],
   "source": [
    "# activate environment\n",
    "\n",
    "\n",
    "# set path to tractor\n",
    "tractor_tracks=\"/vast/palmer/scratch/montalvo-ortiz/jjm262/genomics/yalepenn/tractor_mix/scripts/environment/extdata/Tractor/ExtractTracts.py\"\n",
    "# set path for local ancestry ancestry files\n",
    "locf='/vast/palmer/scratch/montalvo-ortiz/jjm262/genomics/yalepenn/tractor_mix/databases/local_ancestry'\n",
    "# set vcf inputs\n",
    "vcfip='/vast/palmer/scratch/montalvo-ortiz/jjm262/genomics/yalepenn/tractor_mix/databases/genotype/phased_vcfs'\n",
    "\n",
    "# move to local ancestry directory\n",
    "cd ${locf}\n",
    "# create folder for tracks\n",
    "mkdir local_ancestry_tracks\n",
    "\n",
    "# set path for outputs\n",
    "local_tracks=\"/vast/palmer/scratch/montalvo-ortiz/jjm262/genomics/yalepenn/tractor_mix/databases/local_ancestry/local_ancestry_tracks\"\n",
    "\n",
    "# testing script\n",
    "python ${tractor_tracks} \\\n",
    "--msp ${locf}/GWGO_GWCIDR.1kg_phase3_v5.chr1.dose.rsids.filtered.nodup.phased.localancestry \\\n",
    "--vcf  ${vcfip}/GWGO_GWCIDR.1kg_phase3_v5.chr1.dose.rsids.filtered.nodup.phased.shapeit \\\n",
    "--output-path ${local_tracks}/GWGO_GWCIDR.1kg_phase3_v5.chr1.dose.rsids.filtered.nodup.phased.shapeit.localancestrytracks \\\n",
    "--num-ancs 2\n",
    "\n",
    "# generating scripts for chr1 to chr8\n",
    "for chr in {1..8}\n",
    "do\n",
    "echo \"module load miniconda;conda activate tractor_mix;python ${tractor_tracks} --msp ${locf}/GWGO_GWCIDR.1kg_phase3_v5.chr\"${chr}\".dose.rsids.filtered.nodup.phased.localancestry --vcf ${vcfip}/GWGO_GWCIDR.1kg_phase3_v5.chr\"${chr}\".dose.rsids.filtered.nodup.phased.shapeit --output-path ${local_tracks}/GWGO_GWCIDR.1kg_phase3_v5.chr\"${chr}\".dose.rsids.filtered.nodup.phased.shapeit.localancestrytracks --num-ancs 2\"\n",
    "done > job_list_tractormix_tracks_chr1_chr8_v03272023.txt\n",
    "# generating scripts for chr9 to chr16\n",
    "for chr in {9..16}\n",
    "do\n",
    "echo \"module load miniconda;conda activate tractor_mix;python ${tractor_tracks} --msp ${locf}/GWGO_GWCIDR.1kg_phase3_v5.chr\"${chr}\".dose.rsids.filtered.nodup.phased.localancestry --vcf ${vcfip}/GWGO_GWCIDR.1kg_phase3_v5.chr\"${chr}\".dose.rsids.filtered.nodup.phased.shapeit --output-path ${local_tracks}/GWGO_GWCIDR.1kg_phase3_v5.chr\"${chr}\".dose.rsids.filtered.nodup.phased.shapeit.localancestrytracks --num-ancs 2\"\n",
    "done > job_list_tractormix_tracks_chr9_chr16_v03272023.txt\n",
    "# generating scripts for chr17 to chr22\n",
    "for chr in {17..22}\n",
    "do\n",
    "echo \"module load miniconda;conda activate tractor_mix;python ${tractor_tracks} --msp ${locf}/GWGO_GWCIDR.1kg_phase3_v5.chr\"${chr}\".dose.rsids.filtered.nodup.phased.localancestry --vcf ${vcfip}/GWGO_GWCIDR.1kg_phase3_v5.chr\"${chr}\".dose.rsids.filtered.nodup.phased.shapeit --output-path ${local_tracks}/GWGO_GWCIDR.1kg_phase3_v5.chr\"${chr}\".dose.rsids.filtered.nodup.phased.shapeit.localancestrytracks --num-ancs 2\"\n",
    "done > job_list_tractormix_tracks_chr17_chr22_v03272023.txt\n",
    "\n",
    "# load module dSQ\n",
    "module load dSQ\n",
    "\n",
    "# generating script for dSQ\n",
    "dsq --job-file job_list_tractormix_tracks_chr1_chr8_v03272023.txt --mem 80g --time 10:00:00 --partition=day --cpus-per-task=4 --mail-type ALL\n",
    "dsq --job-file job_list_tractormix_tracks_chr9_chr16_v03272023.txt --mem 80g --time 10:00:00 --partition=day --cpus-per-task=4 --mail-type ALL\n",
    "dsq --job-file job_list_tractormix_tracks_chr17_chr22_v03272023.txt --mem 80g --time 04:00:00 --partition=day --cpus-per-task=4 --mail-type ALL\n",
    "        \n",
    "# running scripts in arrays\n",
    "sbatch dsq-job_list_tractormix_tracks_chr1_chr8_v03272023-2023-03-27.sh\n",
    "sbatch dsq-job_list_tractormix_tracks_chr9_chr16_v03272023-2023-03-27.sh\n",
    "sbatch dsq-job_list_tractormix_tracks_chr17_chr22_v03272023-2023-03-27.sh"
   ]
  }
 ],
 "metadata": {
  "kernelspec": {
   "display_name": "Python 3 (ipykernel)",
   "language": "python",
   "name": "python3"
  },
  "language_info": {
   "codemirror_mode": {
    "name": "ipython",
    "version": 3
   },
   "file_extension": ".py",
   "mimetype": "text/x-python",
   "name": "python",
   "nbconvert_exporter": "python",
   "pygments_lexer": "ipython3",
   "version": "3.9.12"
  }
 },
 "nbformat": 4,
 "nbformat_minor": 5
}
