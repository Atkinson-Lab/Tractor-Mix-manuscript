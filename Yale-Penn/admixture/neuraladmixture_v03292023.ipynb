{
 "cells": [
  {
   "cell_type": "markdown",
   "id": "26fead3d",
   "metadata": {},
   "source": [
    "# Running unsupervised admixture\n",
    "\n",
    "Author: Jose Jaime Martinez-Magana\n",
    "\n",
    "Day: 20 March 2023\n",
    "\n",
    "This code will run the admixture using admixture and neuraladmixture"
   ]
  },
  {
   "cell_type": "code",
   "execution_count": null,
   "id": "73d31173",
   "metadata": {},
   "outputs": [],
   "source": [
    "# installing neuraladmixture\n",
    "# creating environment\n",
    "conda create --name neuraladmixture python=3.9\n",
    "# install neuraladmixture\n",
    "pip install neural-admixture"
   ]
  },
  {
   "cell_type": "code",
   "execution_count": null,
   "id": "629ef778",
   "metadata": {},
   "outputs": [],
   "source": [
    "# running admixture and neural admxiture\n",
    "mkdir /vast/palmer/scratch/montalvo-ortiz/jjm262/genomics/yalepenn/tractor_mix/scripts/admixture\n",
    "# creating directory to store the admixture scripts\n",
    "mkdir /vast/palmer/scratch/montalvo-ortiz/jjm262/genomics/yalepenn/tractor_mix/scripts/admixture/admixture\n",
    "# creating directory to store the neuraladmixture scripts\n",
    "mkdir /vast/palmer/scratch/montalvo-ortiz/jjm262/genomics/yalepenn/tractor_mix/scripts/admixture/neuraladmixture\n",
    "\n",
    "# creating path for storing the results of the admixture models\n",
    "mkdir /vast/palmer/scratch/montalvo-ortiz/jjm262/genomics/yalepenn/tractor_mix/admixture"
   ]
  },
  {
   "cell_type": "code",
   "execution_count": null,
   "id": "6da04423",
   "metadata": {},
   "outputs": [],
   "source": [
    "# move to the directory of the scripts for admixture\n",
    "cd /vast/palmer/scratch/montalvo-ortiz/jjm262/genomics/yalepenn/tractor_mix/scripts/admixture/admixture\n",
    "\n",
    "# first we need to create a file with the list of jobs to submit, we named this job_list_admixture_v02292023.txt\n",
    "# we generate the content of this file with the following commands\n",
    "# we are going to used the prunned data from plink as input\n",
    "bedf='/vast/palmer/scratch/montalvo-ortiz/jjm262/genomics/yalepenn/tractor_mix/plink_files/prunned_plink/GWGO_GWCIDR.1kg_phase3_v5.chrmerged.dose.rsids.filtered.nodup.phased.shapeit.plink_prunned_v03292023.bed'\n",
    "# set path for admixture files\n",
    "admo='/vast/palmer/scratch/montalvo-ortiz/jjm262/genomics/yalepenn/tractor_mix/admixture'\n",
    "# creating scripts for running in arrays\n",
    "for k in {1..5}\n",
    "do \n",
    "echo \"module load miniconda;conda activate tractor_mix;cd ${admo};admixture --cv ${bedf} ${k} -s42\" \n",
    "done > job_list_admixture_k1_k5_v02292023.txt\n",
    "\n",
    "for k in {6..10}\n",
    "do \n",
    "echo \"module load miniconda;conda activate tractor_mix;cd ${admo};admixture --cv ${bedf} ${k} -s42\" \n",
    "done > job_list_admixture_k6_k10_v02292023.txt\n",
    "\n",
    "# load module dSQ\n",
    "module load dSQ\n",
    "\n",
    "# generating script for dSQ\n",
    "dsq --job-file job_list_admixture_k1_k5_v02292023.txt --mem 72g --time 6-00:00:00 --partition=week --cpus-per-task=4 --mail-type ALL\n",
    "dsq --job-file job_list_admixture_k6_k10_v02292023.txt --mem 72g --time 6-00:00:00 --partition=week --cpus-per-task=4 --mail-type ALL\n",
    "\n",
    "# running scripts in arrays\n",
    "sbatch dsq-job_list_admixture_k1_k5_v02292023-2023-03-30.sh\n",
    "sbatch dsq-job_list_admixture_k6_k10_v02292023-2023-03-30.sh"
   ]
  },
  {
   "cell_type": "code",
   "execution_count": null,
   "id": "f139824e",
   "metadata": {},
   "outputs": [],
   "source": [
    "# move to the directory of the scripts for admixture\n",
    "cd /vast/palmer/scratch/montalvo-ortiz/jjm262/genomics/yalepenn/tractor_mix/scripts/admixture/neuraladmixture\n",
    "\n",
    "# first we need to create a file with the list of jobs to submit, we named this job_list_admixture_v02292023.txt\n",
    "# we generate the content of this file with the following commands\n",
    "# we are going to used the prunned data from plink as input\n",
    "bedf='/vast/palmer/scratch/montalvo-ortiz/jjm262/genomics/yalepenn/tractor_mix/plink_files/prunned_plink/GWGO_GWCIDR.1kg_phase3_v5.chrmerged.dose.rsids.filtered.nodup.phased.shapeit.plink_prunned_v03292023.bed'\n",
    "# set path for admixture files\n",
    "admo='/vast/palmer/scratch/montalvo-ortiz/jjm262/genomics/yalepenn/tractor_mix/admixture'\n",
    "\n",
    "# creating scripts for running in arrays\n",
    "for k in {1..5}\n",
    "do \n",
    "echo \"module load miniconda;conda activate neuraladmixture;cd ${admo};neural-admixture train --k ${k} --data_path ${bedf} --save_dir ${admo} --init_file INIT_FILE --name neuraladmixture_${k} --seed 42\"\n",
    "done > job_list_neuraladmixture_k1_k5_v02292023.txt\n",
    "\n",
    "for k in {6..10}\n",
    "do \n",
    "echo \"module load miniconda;conda activate neuraladmixture;cd ${admo};neural-admixture train --k ${k} --data_path ${bedf} --save_dir ${admo} --init_file INIT_FILE --name neuraladmixture_${k} --seed 42\"\n",
    "done > job_list_neuraladmixture_k6_k10_v02292023.txt\n",
    "\n",
    "# load module dSQ\n",
    "module load dSQ\n",
    "\n",
    "# generating script for dSQ\n",
    "dsq --job-file job_list_neuraladmixture_k1_k5_v02292023.txt --mem 72g --time 7-00:00:00 --partition=week --cpus-per-task=36 --mail-type ALL\n",
    "dsq --job-file job_list_neuraladmixture_k6_k10_v02292023.txt --mem 72g --time 7-00:00:00 --partition=week --cpus-per-task=36 --mail-type ALL\n",
    "\n",
    "# running scripts in arrays\n",
    "sbatch dsq-job_list_neuraladmixture_k1_k5_v02292023-2023-03-29.sh\n",
    "sbatch dsq-job_list_neuraladmixture_k6_k10_v02292023-2023-03-29.sh\n",
    "\n",
    "# runnnng time for neuraladmixture 10 minutes in 3286 samples and 1M SNPs"
   ]
  }
 ],
 "metadata": {
  "kernelspec": {
   "display_name": "Python 3 (ipykernel)",
   "language": "python",
   "name": "python3"
  },
  "language_info": {
   "codemirror_mode": {
    "name": "ipython",
    "version": 3
   },
   "file_extension": ".py",
   "mimetype": "text/x-python",
   "name": "python",
   "nbconvert_exporter": "python",
   "pygments_lexer": "ipython3",
   "version": "3.9.12"
  }
 },
 "nbformat": 4,
 "nbformat_minor": 5
}
