{
 "cells": [
  {
   "cell_type": "markdown",
   "id": "732e66bd",
   "metadata": {},
   "source": [
    "# Running Tractor-Mix with Height\n",
    "\n",
    "Author: Jose Jaime Martinez-Magana\n",
    "\n",
    "Day: 01 April 2023\n",
    "\n",
    "This script describes the steps for running Tractor-Mix in the Yale Penn cohort 2 - for Alcohol Dependence."
   ]
  },
  {
   "cell_type": "code",
   "execution_count": null,
   "id": "d689ca37",
   "metadata": {},
   "outputs": [],
   "source": [
    "# running Tractor-Mix with alcohol dependence\n",
    "# we are going to run Tractor-Mix using arrays\n",
    "# creating scripts for running in array\n",
    "\n",
    "# move to the directory\n",
    "cd /vast/palmer/scratch/montalvo-ortiz/jjm262/genomics/yalepenn/tractor_mix/scripts/tractor_mix/alcdep\n",
    "# set path for input to scripts\n",
    "# path for tractor-mix\n",
    "tractormix=\"/vast/palmer/scratch/montalvo-ortiz/jjm262/genomics/yalepenn/tractor_mix/scripts/tractor_mix/TractorMix.score_updated_v03282023.R\"\n",
    "# dosage path\n",
    "dosage_path=\"/vast/palmer/scratch/montalvo-ortiz/jjm262/genomics/yalepenn/tractor_mix/databases/local_ancestry/local_ancestry_tracks\"\n",
    "# path to the null model\n",
    "nullmodel_path=\"/vast/palmer/scratch/montalvo-ortiz/jjm262/genomics/yalepenn/tractor_mix/pca_grm/GWGO_GWCIDR.1kg_phase3_v5.chrmerged.dose.rsids.filtered.nodup.phased.shapeit.gds_prunned_alc_fid.null.model.rds\"\n",
    "# path to the output files\n",
    "outfile_path=\"/vast/palmer/scratch/montalvo-ortiz/jjm262/genomics/yalepenn/tractor_mix/tractor_mix/alcdep\"\n",
    "# path to the Tractor-Mix wrapper\n",
    "tractor_mix_wrapper=\"/vast/palmer/scratch/montalvo-ortiz/jjm262/genomics/yalepenn/tractor_mix/scripts/tractor_mix/tractor_mix_wrapper.Rscript\"\n",
    "\n",
    "# create scripts for running arrays\n",
    "for chr in {1..5}\n",
    "do \n",
    "echo \"module load miniconda;conda activate tractor_mix;Rscript ${tractor_mix_wrapper} --tractormix=${tractormix} --nullmodel_path=${nullmodel_path} --dosage_path=${dosage_path} --input_name_anc0=GWGO_GWCIDR.1kg_phase3_v5.chr${chr}.dose.rsids.filtered.nodup.phased.shapeit.localancestrytracks.anc0.dosage.txt --input_name_anc1=GWGO_GWCIDR.1kg_phase3_v5.chr${chr}.dose.rsids.filtered.nodup.phased.shapeit.localancestrytracks.anc1.dosage.txt --outfile_path=${outfile_path}/yalepenn2_admixed_tractormix_heigth_chr${chr}.tsv\"\n",
    "done > job_list_tractormix_alc_chr1_chr5_v04012023.txt\n",
    "\n",
    "for chr in {6..10}\n",
    "do \n",
    "echo \"module load miniconda;conda activate tractor_mix;Rscript ${tractor_mix_wrapper} --tractormix=${tractormix} --nullmodel_path=${nullmodel_path} --dosage_path=${dosage_path} --input_name_anc0=GWGO_GWCIDR.1kg_phase3_v5.chr${chr}.dose.rsids.filtered.nodup.phased.shapeit.localancestrytracks.anc0.dosage.txt --input_name_anc1=GWGO_GWCIDR.1kg_phase3_v5.chr${chr}.dose.rsids.filtered.nodup.phased.shapeit.localancestrytracks.anc1.dosage.txt --outfile_path=${outfile_path}/yalepenn2_admixed_tractormix_heigth_chr${chr}.tsv\"\n",
    "done > job_list_tractormix_alc_chr6_chr10_v04012023.txt\n",
    "\n",
    "for chr in {11..15}\n",
    "do \n",
    "echo \"module load miniconda;conda activate tractor_mix;Rscript ${tractor_mix_wrapper} --tractormix=${tractormix} --nullmodel_path=${nullmodel_path} --dosage_path=${dosage_path} --input_name_anc0=GWGO_GWCIDR.1kg_phase3_v5.chr${chr}.dose.rsids.filtered.nodup.phased.shapeit.localancestrytracks.anc0.dosage.txt --input_name_anc1=GWGO_GWCIDR.1kg_phase3_v5.chr${chr}.dose.rsids.filtered.nodup.phased.shapeit.localancestrytracks.anc1.dosage.txt --outfile_path=${outfile_path}/yalepenn2_admixed_tractormix_heigth_chr${chr}.tsv\"\n",
    "done > job_list_tractormix_alc_chr11_chr15_v04012023.txt\n",
    "\n",
    "for chr in {16..20}\n",
    "do \n",
    "echo \"module load miniconda;conda activate tractor_mix;Rscript ${tractor_mix_wrapper} --tractormix=${tractormix} --nullmodel_path=${nullmodel_path} --dosage_path=${dosage_path} --input_name_anc0=GWGO_GWCIDR.1kg_phase3_v5.chr${chr}.dose.rsids.filtered.nodup.phased.shapeit.localancestrytracks.anc0.dosage.txt --input_name_anc1=GWGO_GWCIDR.1kg_phase3_v5.chr${chr}.dose.rsids.filtered.nodup.phased.shapeit.localancestrytracks.anc1.dosage.txt --outfile_path=${outfile_path}/yalepenn2_admixed_tractormix_heigth_chr${chr}.tsv\"\n",
    "done > job_list_tractormix_alc_chr16_chr20_v04012023.txt\n",
    "\n",
    "for chr in {21..22}\n",
    "do \n",
    "echo \"module load miniconda;conda activate tractor_mix;Rscript ${tractor_mix_wrapper} --tractormix=${tractormix} --nullmodel_path=${nullmodel_path} --dosage_path=${dosage_path} --input_name_anc0=GWGO_GWCIDR.1kg_phase3_v5.chr${chr}.dose.rsids.filtered.nodup.phased.shapeit.localancestrytracks.anc0.dosage.txt --input_name_anc1=GWGO_GWCIDR.1kg_phase3_v5.chr${chr}.dose.rsids.filtered.nodup.phased.shapeit.localancestrytracks.anc1.dosage.txt --outfile_path=${outfile_path}/yalepenn2_admixed_tractormix_heigth_chr${chr}.tsv\"\n",
    "done > job_list_tractormix_alc_chr21_chr22_v04012023.txt\n",
    "\n",
    "# load module dSQ\n",
    "module load dSQ\n",
    "\n",
    "# generating scripts\n",
    "dsq --job-file job_list_tractormix_alc_chr1_chr5_v04012023.txt --mem 72g --time 7-00:00:00 --partition=week --cpus-per-task=4 --mail-type ALL\n",
    "dsq --job-file job_list_tractormix_alc_chr6_chr10_v04012023.txt --mem 72g --time 7-00:00:00 --partition=week --cpus-per-task=4 --mail-type ALL\n",
    "dsq --job-file job_list_tractormix_alc_chr11_chr15_v04012023.txt --mem 72g --time 7-00:00:00 --partition=week --cpus-per-task=4 --mail-type ALL\n",
    "dsq --job-file job_list_tractormix_alc_chr16_chr20_v04012023.txt --mem 72g --time 7-00:00:00 --partition=week --cpus-per-task=4 --mail-type ALL\n",
    "dsq --job-file job_list_tractormix_alc_chr21_chr22_v04012023.txt --mem 72g --time 7-00:00:00 --partition=week --cpus-per-task=4 --mail-type ALL\n",
    "\n",
    "# running scripts\n",
    "sbatch dsq-job_list_tractormix_alc_chr21_chr22_v04012023-2023-04-02.sh\n",
    "sbatch dsq-job_list_tractormix_alc_chr16_chr20_v04012023-2023-04-02.sh\n",
    "sbatch dsq-job_list_tractormix_alc_chr11_chr15_v04012023-2023-04-02.sh\n",
    "sbatch dsq-job_list_tractormix_alc_chr6_chr10_v04012023-2023-04-02.sh\n",
    "sbatch dsq-job_list_tractormix_alc_chr1_chr5_v04012023-2023-04-02.sh"
   ]
  }
 ],
 "metadata": {
  "kernelspec": {
   "display_name": "Python 3 (ipykernel)",
   "language": "python",
   "name": "python3"
  },
  "language_info": {
   "codemirror_mode": {
    "name": "ipython",
    "version": 3
   },
   "file_extension": ".py",
   "mimetype": "text/x-python",
   "name": "python",
   "nbconvert_exporter": "python",
   "pygments_lexer": "ipython3",
   "version": "3.9.12"
  }
 },
 "nbformat": 4,
 "nbformat_minor": 5
}
